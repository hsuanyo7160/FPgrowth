{
 "cells": [
  {
   "cell_type": "code",
   "execution_count": 20,
   "metadata": {
    "id": "-PRcr8krB-rh"
   },
   "outputs": [],
   "source": [
    "from collections import defaultdict, OrderedDict\n",
    "from csv import reader\n",
    "from itertools import chain, combinations\n",
    "from optparse import OptionParser"
   ]
  },
  {
   "cell_type": "code",
   "execution_count": 21,
   "metadata": {
    "id": "spDwUgO3B-ri"
   },
   "outputs": [],
   "source": [
    "class Node:\n",
    "    def __init__(self, itemName, frequency, parentNode):\n",
    "        self.itemName = itemName\n",
    "        self.count = frequency\n",
    "        self.parent = parentNode\n",
    "        self.children = {}\n",
    "        self.next = None\n",
    "\n",
    "    def increment(self, frequency):\n",
    "        self.count += frequency\n",
    "\n",
    "    def display(self, ind=1):\n",
    "        ############################ 修改部分 ############################\n",
    "        # 完成 display() 函數的輸出功能，可以查看 FP-Tree 的結構\n",
    "        print ('   '*(ind-1), '└─', self.itemName, '(', self.count,')')                  \n",
    "        ##################################################################\n",
    "        for child in list(self.children.values()):\n",
    "            child.display(ind+1)"
   ]
  },
  {
   "cell_type": "code",
   "execution_count": 22,
   "metadata": {
    "id": "UspIf7ByB-rj"
   },
   "outputs": [],
   "source": [
    "def constructTree(itemSetList, frequency, minSup):\n",
    "    headerTable = defaultdict(int)\n",
    "    # Counting frequency and create header table\n",
    "    for idx, itemSet in enumerate(itemSetList):\n",
    "        for item in itemSet:\n",
    "            headerTable[item] += frequency[idx]\n",
    "\n",
    "    # Deleting items below minSup\n",
    "    headerTable = dict((item, sup) for item, sup in headerTable.items() if minSup <= sup )\n",
    "    headerTable = {k: v for k, v in sorted(headerTable.items(), key=lambda item: (-item[1],item[0]))}\n",
    "\n",
    "    if(len(headerTable) == 0):\n",
    "        return None, None\n",
    "\n",
    "    # HeaderTable column [Item: [frequency, headNode]]\n",
    "    for item in headerTable:\n",
    "        headerTable[item] = [headerTable[item], None]\n",
    "\n",
    "    # Init Null head node\n",
    "    fpTree = Node('Null', 1, None)\n",
    "\n",
    "    # Update FP tree for each cleaned and sorted itemSet\n",
    "    for idx, itemSet in enumerate(itemSetList):\n",
    "        itemSet = [item for item in itemSet if item in headerTable]\n",
    "        ############################ 修改部分 ##################################\n",
    "        # 改成 reverse = True，讓 item 依照 Support 大到小去進行排\n",
    "        itemSet.sort(key=lambda item: (headerTable[item][0],item), reverse=True)\n",
    "        #######################################################################\n",
    "        #print(itemSet)\n",
    "        # Traverse from root to leaf, update tree with given item\n",
    "        currentNode = fpTree\n",
    "        for item in itemSet:\n",
    "            currentNode = updateTree(item, currentNode, headerTable, frequency[idx])\n",
    "\n",
    "    #fpTree.display()\n",
    "    #checkNodeLinks(headerTable)\n",
    "    return fpTree, headerTable\n",
    "\n",
    "def updateHeaderTable(item, targetNode, headerTable):\n",
    "    if(headerTable[item][1] == None):\n",
    "        headerTable[item][1] = targetNode\n",
    "    else:\n",
    "        currentNode = headerTable[item][1]\n",
    "        # Traverse to the last node then link it to the target\n",
    "        while currentNode.next != None:\n",
    "            currentNode = currentNode.next\n",
    "        currentNode.next = targetNode\n",
    "\n",
    "def updateTree(item, treeNode, headerTable, frequency):\n",
    "    if item in treeNode.children:\n",
    "        # If the item already exists, increment the count\n",
    "        treeNode.children[item].increment(frequency)\n",
    "    else:\n",
    "        # Create a new branch\n",
    "        newItemNode = Node(item, frequency, treeNode)\n",
    "        treeNode.children[item] = newItemNode\n",
    "        # Link the new branch to header table\n",
    "        updateHeaderTable(item, newItemNode, headerTable)\n",
    "\n",
    "    return treeNode.children[item]"
   ]
  },
  {
   "cell_type": "code",
   "execution_count": 23,
   "metadata": {
    "id": "-04M7wcXB-rj"
   },
   "outputs": [],
   "source": [
    "def ascendFPtree(node, prefixPath):\n",
    "    if node.parent != None:\n",
    "        prefixPath.append(node.itemName)\n",
    "        ascendFPtree(node.parent, prefixPath)\n",
    "\n",
    "def findPrefixPath(basePat, headerTable):\n",
    "    # First node in linked list\n",
    "    treeNode = headerTable[basePat][1]\n",
    "    condPats = []\n",
    "    frequency = []\n",
    "    while treeNode != None:\n",
    "        prefixPath = []\n",
    "        # From leaf node all the way to root\n",
    "        ascendFPtree(treeNode, prefixPath)\n",
    "        if len(prefixPath) > 1:\n",
    "            # Storing the prefix path and it's corresponding count\n",
    "            condPats.append(prefixPath[1:])\n",
    "            frequency.append(treeNode.count)\n",
    "\n",
    "        # Go to next node\n",
    "        treeNode = treeNode.next\n",
    "    return condPats, frequency\n",
    "\n",
    "def mineTree(headerTable, minSup, preFix, freqItemList):\n",
    "    # Sort the items with frequency and create a list\n",
    "    sortedItemList = [item[0] for item in sorted(list(headerTable.items()), key=lambda p:p[1][0])]\n",
    "    # Start with the lowest frequency\n",
    "    for item in sortedItemList:\n",
    "        # Pattern growth is achieved by the concatenation of suffix pattern \n",
    "        # with frequent patterns generated from conditional FP-tree\n",
    "        newFreqSet = preFix.copy()\n",
    "        newFreqSet.add(item)\n",
    "        freqItemList.append(newFreqSet)\n",
    "        # Find all prefix path, constrcut conditional pattern base\n",
    "        conditionalPattBase, frequency = findPrefixPath(item, headerTable)\n",
    "\n",
    "        # Construct conditonal FP Tree with conditional pattern base\n",
    "        conditionalTree, newHeaderTable = constructTree(conditionalPattBase, frequency, minSup)\n",
    "\n",
    "        if newHeaderTable != None:\n",
    "            # Mining recursively on the tree\n",
    "            mineTree(newHeaderTable, minSup, newFreqSet, freqItemList)"
   ]
  },
  {
   "cell_type": "code",
   "execution_count": 24,
   "metadata": {
    "id": "zi-iwt1SB-rj"
   },
   "outputs": [],
   "source": [
    "def powerset(s):\n",
    "    return chain.from_iterable(combinations(s, r) for r in range(1, len(s)))\n",
    "\n",
    "def getSupport(testSet, itemSetList):\n",
    "    count = 0\n",
    "    for itemSet in itemSetList:\n",
    "        if(set(testSet).issubset(itemSet)):\n",
    "            count += 1\n",
    "    return count\n",
    "############################ 修改部分 ###########################\n",
    "def associationRule(freqItemSet, itemSetList, minConf, minLift):    # 新增 minLift 參數\n",
    "    rules = []\n",
    "    for itemSet in freqItemSet:\n",
    "        if len(itemSet) <= 1:\n",
    "            continue\n",
    "        subsets = powerset(itemSet)\n",
    "        itemSetSup = getSupport(itemSet, itemSetList)\n",
    "        for s in subsets:\n",
    "            confidence = float(itemSetSup / getSupport(s, itemSetList))\n",
    "            # lift 計算\n",
    "            lift = float(itemSetSup * len(itemSetList) / getSupport(s, itemSetList) / getSupport(itemSet.difference(s), itemSetList))    \n",
    "            if (confidence >= minConf) & (lift >= minLift):         # 新增 lift 的判斷並將 > 改成 >=\n",
    "                rules.append([set(s), set(itemSet.difference(s)), confidence, lift])\n",
    "    return rules\n",
    "################################################################\n",
    "def getFrequencyFromList(itemSetList):\n",
    "    frequency = [1 for i in range(len(itemSetList))]\n",
    "    return frequency"
   ]
  },
  {
   "cell_type": "code",
   "execution_count": 25,
   "metadata": {
    "id": "TYNOLPyMB-rk"
   },
   "outputs": [],
   "source": [
    "def fpgrowth(itemSetList, minSupRatio, minConf, minLift):  # 新增 minLift 參數\n",
    "    frequency = getFrequencyFromList(itemSetList)\n",
    "    minSup = len(itemSetList) * minSupRatio\n",
    "    fpTree, headerTable = constructTree(itemSetList, frequency, minSup)\n",
    "    if(fpTree == None):\n",
    "        print('No frequent item set')\n",
    "        return [], []\n",
    "    else:\n",
    "        freqItems = []\n",
    "        mineTree(headerTable, minSup, set(), freqItems)\n",
    "        rules = associationRule(freqItems, itemSetList, minConf, minLift)\n",
    "        return freqItems, rules"
   ]
  },
  {
   "cell_type": "code",
   "execution_count": 26,
   "metadata": {
    "id": "wHyv7XloB-rk"
   },
   "outputs": [],
   "source": [
    "# 自訂輸出格式\n",
    "def output(rule):\n",
    "    print(len(rule))\n",
    "    print(\"⎯\" * 60)\n",
    "    print(\"{:<30} {:<15} {:<10}\".format( \"Association Rule\", \"Confidence\", \"Lift\"))\n",
    "    print(\"⎯\" * 60)\n",
    "    for r in rule:\n",
    "        tmp = list(r[0])\n",
    "        lhs = \", \".join(tmp)  # 左側部分\n",
    "        tmp = list(r[1])\n",
    "        rhs = \", \".join(tmp)  # 右側部分\n",
    "\n",
    "        # 使用格式化字串輸出，對齊各欄位\n",
    "        print(\"{:<30} {:<15.5f} {:<10.5f}\".format(lhs + \" → \" + rhs, r[2], r[3]))"
   ]
  },
  {
   "cell_type": "markdown",
   "metadata": {},
   "source": [
    "### MinSup = 0.0001 Conf = 0.9"
   ]
  },
  {
   "cell_type": "code",
   "execution_count": 27,
   "metadata": {
    "id": "NtgADchEB-rk",
    "outputId": "5562aead-c293-49ab-9c6d-838d716cf2df"
   },
   "outputs": [
    {
     "name": "stdout",
     "output_type": "stream",
     "text": [
      "16\n",
      "⎯⎯⎯⎯⎯⎯⎯⎯⎯⎯⎯⎯⎯⎯⎯⎯⎯⎯⎯⎯⎯⎯⎯⎯⎯⎯⎯⎯⎯⎯⎯⎯⎯⎯⎯⎯⎯⎯⎯⎯⎯⎯⎯⎯⎯⎯⎯⎯⎯⎯⎯⎯⎯⎯⎯⎯⎯⎯⎯⎯\n",
      "Association Rule               Confidence      Lift      \n",
      "⎯⎯⎯⎯⎯⎯⎯⎯⎯⎯⎯⎯⎯⎯⎯⎯⎯⎯⎯⎯⎯⎯⎯⎯⎯⎯⎯⎯⎯⎯⎯⎯⎯⎯⎯⎯⎯⎯⎯⎯⎯⎯⎯⎯⎯⎯⎯⎯⎯⎯⎯⎯⎯⎯⎯⎯⎯⎯⎯⎯\n",
      "fertilizer → flower soil       1.00000         2422.81250\n",
      "flower soil → fertilizer       1.00000         2422.81250\n",
      "nuts → prunes                  1.00000         1174.69697\n",
      "prunes → nuts                  1.00000         1174.69697\n",
      "bags → cling film              0.94872         496.98718 \n",
      "cling film → bags              1.00000         496.98718 \n",
      "film → photo                   1.00000         490.69620 \n",
      "photo → film                   1.00000         490.69620 \n",
      "vegetables → packaged fruit    1.00000         302.85156 \n",
      "packaged fruit → vegetables    1.00000         302.85156 \n",
      "red → blush wine               1.00000         246.91083 \n",
      "blush wine → red               1.00000         246.91083 \n",
      "fruit → vegetable juice        1.00000         74.83591  \n",
      "vegetable juice → fruit        1.00000         74.83591  \n",
      "rolls → buns                   1.00000         22.53779  \n",
      "buns → rolls                   0.99767         22.53779  \n"
     ]
    }
   ],
   "source": [
    "################ Q1 ################\n",
    "# 讀取資料集\n",
    "with open(\"A1.csv\", \"r\") as f:\n",
    "    next(f)\n",
    "    dataset = [line.strip().split(\",\") for line in f]\n",
    "# 參數設定\n",
    "minsup = 0.0001\n",
    "minconf = 0.9\n",
    "minlift = 0.0\n",
    "# FP-Growth\n",
    "freq, rule = fpgrowth(dataset, minsup, minconf, minlift)\n",
    "# 輸出結果\n",
    "output(rule)"
   ]
  },
  {
   "cell_type": "code",
   "execution_count": 28,
   "metadata": {},
   "outputs": [
    {
     "name": "stdout",
     "output_type": "stream",
     "text": [
      "{'fertilizer', 'flower soil'}\n",
      "{'nuts', 'prunes'}\n",
      "{'bags', 'cling film'}\n",
      "{'film', 'photo'}\n",
      "{'vegetables', 'packaged fruit'}\n",
      "{'red', 'blush wine'}\n",
      "{'fruit', 'vegetable juice'}\n",
      "{'whipped sour cream', 'buns'}\n",
      "{'rolls', 'buns'}\n"
     ]
    }
   ],
   "source": [
    "# Frequent Item Set for Q1\n",
    "# 只列印長度 2 以上\n",
    "for item in freq:\n",
    "    if len(item) > 1:\n",
    "        print(item)"
   ]
  },
  {
   "cell_type": "markdown",
   "metadata": {},
   "source": [
    "### Minsup = 0.0001 Minlift = 90"
   ]
  },
  {
   "cell_type": "code",
   "execution_count": 29,
   "metadata": {
    "id": "chISN2m_B-rl",
    "outputId": "e26d9a37-e775-44af-b06c-da365a00c6c4"
   },
   "outputs": [
    {
     "name": "stdout",
     "output_type": "stream",
     "text": [
      "12\n",
      "⎯⎯⎯⎯⎯⎯⎯⎯⎯⎯⎯⎯⎯⎯⎯⎯⎯⎯⎯⎯⎯⎯⎯⎯⎯⎯⎯⎯⎯⎯⎯⎯⎯⎯⎯⎯⎯⎯⎯⎯⎯⎯⎯⎯⎯⎯⎯⎯⎯⎯⎯⎯⎯⎯⎯⎯⎯⎯⎯⎯\n",
      "Association Rule               Confidence      Lift      \n",
      "⎯⎯⎯⎯⎯⎯⎯⎯⎯⎯⎯⎯⎯⎯⎯⎯⎯⎯⎯⎯⎯⎯⎯⎯⎯⎯⎯⎯⎯⎯⎯⎯⎯⎯⎯⎯⎯⎯⎯⎯⎯⎯⎯⎯⎯⎯⎯⎯⎯⎯⎯⎯⎯⎯⎯⎯⎯⎯⎯⎯\n",
      "fertilizer → flower soil       1.00000         2422.81250\n",
      "flower soil → fertilizer       1.00000         2422.81250\n",
      "nuts → prunes                  1.00000         1174.69697\n",
      "prunes → nuts                  1.00000         1174.69697\n",
      "bags → cling film              0.94872         496.98718 \n",
      "cling film → bags              1.00000         496.98718 \n",
      "film → photo                   1.00000         490.69620 \n",
      "photo → film                   1.00000         490.69620 \n",
      "vegetables → packaged fruit    1.00000         302.85156 \n",
      "packaged fruit → vegetables    1.00000         302.85156 \n",
      "red → blush wine               1.00000         246.91083 \n",
      "blush wine → red               1.00000         246.91083 \n"
     ]
    }
   ],
   "source": [
    "################ Q2 ################\n",
    "# 讀取資料集\n",
    "with open(\"A1.csv\", \"r\") as f:\n",
    "    next(f)\n",
    "    dataset = [line.strip().split(\",\") for line in f]\n",
    "# 參數設定\n",
    "minsup = 0.0001\n",
    "minconf = 0\n",
    "minlift = 90\n",
    "# FP-Growth\n",
    "freq, rule = fpgrowth(dataset, minsup, minconf, minlift)\n",
    "# 輸出結果\n",
    "output(rule)"
   ]
  },
  {
   "cell_type": "code",
   "execution_count": 30,
   "metadata": {},
   "outputs": [
    {
     "name": "stdout",
     "output_type": "stream",
     "text": [
      "{'fertilizer', 'flower soil'}\n",
      "{'nuts', 'prunes'}\n",
      "{'bags', 'cling film'}\n",
      "{'film', 'photo'}\n",
      "{'vegetables', 'packaged fruit'}\n",
      "{'red', 'blush wine'}\n",
      "{'fruit', 'vegetable juice'}\n",
      "{'whipped sour cream', 'buns'}\n",
      "{'rolls', 'buns'}\n"
     ]
    }
   ],
   "source": [
    "# Frequent Item Set for Q1\n",
    "# 只列印長度 2 以上\n",
    "for item in freq:\n",
    "    if len(item) > 1:\n",
    "        print(item)"
   ]
  },
  {
   "cell_type": "markdown",
   "metadata": {},
   "source": [
    "### Minsup = 0.0004 , Minconf = 1, Minlift = 1000 "
   ]
  },
  {
   "cell_type": "code",
   "execution_count": 31,
   "metadata": {
    "id": "dzSZftn1B-rl",
    "outputId": "18cb2af3-f904-458b-c458-cad4cd65ddbd"
   },
   "outputs": [
    {
     "name": "stdout",
     "output_type": "stream",
     "text": [
      "4\n",
      "⎯⎯⎯⎯⎯⎯⎯⎯⎯⎯⎯⎯⎯⎯⎯⎯⎯⎯⎯⎯⎯⎯⎯⎯⎯⎯⎯⎯⎯⎯⎯⎯⎯⎯⎯⎯⎯⎯⎯⎯⎯⎯⎯⎯⎯⎯⎯⎯⎯⎯⎯⎯⎯⎯⎯⎯⎯⎯⎯⎯\n",
      "Association Rule               Confidence      Lift      \n",
      "⎯⎯⎯⎯⎯⎯⎯⎯⎯⎯⎯⎯⎯⎯⎯⎯⎯⎯⎯⎯⎯⎯⎯⎯⎯⎯⎯⎯⎯⎯⎯⎯⎯⎯⎯⎯⎯⎯⎯⎯⎯⎯⎯⎯⎯⎯⎯⎯⎯⎯⎯⎯⎯⎯⎯⎯⎯⎯⎯⎯\n",
      "fertilizer → flower soil       1.00000         2422.81250\n",
      "flower soil → fertilizer       1.00000         2422.81250\n",
      "nuts → prunes                  1.00000         1174.69697\n",
      "prunes → nuts                  1.00000         1174.69697\n"
     ]
    }
   ],
   "source": [
    "################ Q5 ################\n",
    "# 讀取資料集\n",
    "with open(\"A1.csv\", \"r\") as f:\n",
    "    next(f)\n",
    "    dataset = [line.strip().split(\",\") for line in f]\n",
    "# 參數設定\n",
    "minsup = 0.0004\n",
    "minconf = 1\n",
    "minlift = 1000\n",
    "# FP-Growth\n",
    "freq, rule = fpgrowth(dataset, minsup, minconf, minlift)\n",
    "# 輸出結果\n",
    "output(rule)"
   ]
  }
 ],
 "metadata": {
  "colab": {
   "provenance": []
  },
  "kernelspec": {
   "display_name": "Python 3 (ipykernel)",
   "language": "python",
   "name": "python3"
  },
  "language_info": {
   "codemirror_mode": {
    "name": "ipython",
    "version": 3
   },
   "file_extension": ".py",
   "mimetype": "text/x-python",
   "name": "python",
   "nbconvert_exporter": "python",
   "pygments_lexer": "ipython3",
   "version": "3.12.0"
  }
 },
 "nbformat": 4,
 "nbformat_minor": 4
}
